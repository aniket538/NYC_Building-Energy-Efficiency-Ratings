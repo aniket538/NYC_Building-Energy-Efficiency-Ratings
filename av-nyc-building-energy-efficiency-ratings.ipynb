{
 "cells": [
  {
   "cell_type": "code",
   "execution_count": 1,
   "id": "663b9d03",
   "metadata": {
    "execution": {
     "iopub.execute_input": "2024-05-23T05:15:55.784800Z",
     "iopub.status.busy": "2024-05-23T05:15:55.784389Z",
     "iopub.status.idle": "2024-05-23T05:15:58.401796Z",
     "shell.execute_reply": "2024-05-23T05:15:58.400737Z"
    },
    "papermill": {
     "duration": 2.626851,
     "end_time": "2024-05-23T05:15:58.404414",
     "exception": false,
     "start_time": "2024-05-23T05:15:55.777563",
     "status": "completed"
    },
    "tags": []
   },
   "outputs": [],
   "source": [
    "import pandas as pd\n",
    "import matplotlib.pyplot as plt\n",
    "import seaborn as sns\n",
    "from sklearn.model_selection import train_test_split\n",
    "from sklearn.ensemble import RandomForestClassifier\n",
    "from sklearn.metrics import classification_report, confusion_matrix"
   ]
  },
  {
   "cell_type": "code",
   "execution_count": 2,
   "id": "cdd9a620",
   "metadata": {
    "_cell_guid": "b1076dfc-b9ad-4769-8c92-a6c4dae69d19",
    "_uuid": "8f2839f25d086af736a60e9eeb907d3b93b6e0e5",
    "execution": {
     "iopub.execute_input": "2024-05-23T05:15:58.416697Z",
     "iopub.status.busy": "2024-05-23T05:15:58.415648Z",
     "iopub.status.idle": "2024-05-23T05:15:58.428027Z",
     "shell.execute_reply": "2024-05-23T05:15:58.426917Z"
    },
    "papermill": {
     "duration": 0.021272,
     "end_time": "2024-05-23T05:15:58.430830",
     "exception": false,
     "start_time": "2024-05-23T05:15:58.409558",
     "status": "completed"
    },
    "tags": []
   },
   "outputs": [
    {
     "name": "stdout",
     "output_type": "stream",
     "text": [
      "/kaggle/input/nyc-building-energy-efficiency-ratings/geojson_lookup_rows.csv\n",
      "/kaggle/input/nyc-building-energy-efficiency-ratings/energy_disclosure_2021_rows.csv\n"
     ]
    }
   ],
   "source": [
    "# This Python 3 environment comes with many helpful analytics libraries installed\n",
    "# It is defined by the kaggle/python Docker image: https://github.com/kaggle/docker-python\n",
    "# For example, here's several helpful packages to load\n",
    "\n",
    "import numpy as np # linear algebra\n",
    "import pandas as pd # data processing, CSV file I/O (e.g. pd.read_csv)\n",
    "\n",
    "# Input data files are available in the read-only \"../input/\" directory\n",
    "# For example, running this (by clicking run or pressing Shift+Enter) will list all files under the input directory\n",
    "\n",
    "import os\n",
    "for dirname, _, filenames in os.walk('/kaggle/input'):\n",
    "    for filename in filenames:\n",
    "        print(os.path.join(dirname, filename))\n",
    "\n",
    "# You can write up to 20GB to the current directory (/kaggle/working/) that gets preserved as output when you create a version using \"Save & Run All\" \n",
    "# You can also write temporary files to /kaggle/temp/, but they won't be saved outside of the current session"
   ]
  },
  {
   "cell_type": "code",
   "execution_count": 3,
   "id": "cc5be4a7",
   "metadata": {
    "execution": {
     "iopub.execute_input": "2024-05-23T05:15:58.443043Z",
     "iopub.status.busy": "2024-05-23T05:15:58.442655Z",
     "iopub.status.idle": "2024-05-23T05:15:58.467592Z",
     "shell.execute_reply": "2024-05-23T05:15:58.466621Z"
    },
    "papermill": {
     "duration": 0.033784,
     "end_time": "2024-05-23T05:15:58.470020",
     "exception": false,
     "start_time": "2024-05-23T05:15:58.436236",
     "status": "completed"
    },
    "tags": []
   },
   "outputs": [],
   "source": [
    "geojson_lookup_data = pd.read_csv('/kaggle/input/nyc-building-energy-efficiency-ratings/geojson_lookup_rows.csv')\n",
    "energy_disclosure_data = pd.read_csv('/kaggle/input/nyc-building-energy-efficiency-ratings/energy_disclosure_2021_rows.csv')"
   ]
  },
  {
   "cell_type": "code",
   "execution_count": 4,
   "id": "a56b3017",
   "metadata": {
    "execution": {
     "iopub.execute_input": "2024-05-23T05:15:58.482395Z",
     "iopub.status.busy": "2024-05-23T05:15:58.481995Z",
     "iopub.status.idle": "2024-05-23T05:15:58.512217Z",
     "shell.execute_reply": "2024-05-23T05:15:58.511062Z"
    },
    "papermill": {
     "duration": 0.039047,
     "end_time": "2024-05-23T05:15:58.514526",
     "exception": false,
     "start_time": "2024-05-23T05:15:58.475479",
     "status": "completed"
    },
    "tags": []
   },
   "outputs": [
    {
     "name": "stdout",
     "output_type": "stream",
     "text": [
      "Summary statistics of the energy disclosure data:\n",
      "       10_Digit_BBL  Street_Number  DOF_Gross_Square_Footage  \\\n",
      "count  1.000000e+02     100.000000              1.000000e+02   \n",
      "mean   1.000952e+09     123.230000              5.103363e+05   \n",
      "std    2.232645e+06     137.155508              5.303829e+05   \n",
      "min    1.000050e+09       1.000000              2.548300e+04   \n",
      "25%    1.000160e+09      25.000000              2.171008e+05   \n",
      "50%    1.000220e+09      64.000000              3.611830e+05   \n",
      "75%    1.000290e+09     202.750000              5.844400e+05   \n",
      "max    1.007620e+09     555.000000              3.678000e+06   \n",
      "\n",
      "       Energy_Star_1-100_Score  \n",
      "count               100.000000  \n",
      "mean                 63.250000  \n",
      "std                  27.262056  \n",
      "min                   1.000000  \n",
      "25%                  43.500000  \n",
      "50%                  75.500000  \n",
      "75%                  83.250000  \n",
      "max                 100.000000  \n"
     ]
    }
   ],
   "source": [
    "print(\"Summary statistics of the energy disclosure data:\")\n",
    "print(energy_disclosure_data.describe())"
   ]
  },
  {
   "cell_type": "code",
   "execution_count": 5,
   "id": "017e1613",
   "metadata": {
    "execution": {
     "iopub.execute_input": "2024-05-23T05:15:58.526731Z",
     "iopub.status.busy": "2024-05-23T05:15:58.525553Z",
     "iopub.status.idle": "2024-05-23T05:15:58.541300Z",
     "shell.execute_reply": "2024-05-23T05:15:58.540146Z"
    },
    "papermill": {
     "duration": 0.02421,
     "end_time": "2024-05-23T05:15:58.543629",
     "exception": false,
     "start_time": "2024-05-23T05:15:58.519419",
     "status": "completed"
    },
    "tags": []
   },
   "outputs": [
    {
     "name": "stdout",
     "output_type": "stream",
     "text": [
      "Summary statistics of the geojson_lookup_data:\n",
      "       10_Digit_BBL   Latitude  Longitude\n",
      "count  1.000000e+02  70.000000  70.000000\n",
      "mean   1.164010e+09 -74.005260  40.711048\n",
      "std    5.704976e+08   0.009937   0.014468\n",
      "min    1.000130e+09 -74.014611  40.631845\n",
      "25%    1.000680e+09 -74.010148  40.707104\n",
      "50%    1.001713e+09 -74.007458  40.710277\n",
      "75%    1.002233e+09 -74.003953  40.719267\n",
      "max    4.027848e+09 -73.955008  40.740699\n"
     ]
    }
   ],
   "source": [
    "print(\"Summary statistics of the geojson_lookup_data:\")\n",
    "print(geojson_lookup_data.describe())"
   ]
  },
  {
   "cell_type": "code",
   "execution_count": 6,
   "id": "55403d58",
   "metadata": {
    "execution": {
     "iopub.execute_input": "2024-05-23T05:15:58.555796Z",
     "iopub.status.busy": "2024-05-23T05:15:58.555076Z",
     "iopub.status.idle": "2024-05-23T05:15:58.570398Z",
     "shell.execute_reply": "2024-05-23T05:15:58.569221Z"
    },
    "papermill": {
     "duration": 0.024127,
     "end_time": "2024-05-23T05:15:58.572838",
     "exception": false,
     "start_time": "2024-05-23T05:15:58.548711",
     "status": "completed"
    },
    "tags": []
   },
   "outputs": [
    {
     "data": {
      "text/html": [
       "<div>\n",
       "<style scoped>\n",
       "    .dataframe tbody tr th:only-of-type {\n",
       "        vertical-align: middle;\n",
       "    }\n",
       "\n",
       "    .dataframe tbody tr th {\n",
       "        vertical-align: top;\n",
       "    }\n",
       "\n",
       "    .dataframe thead th {\n",
       "        text-align: right;\n",
       "    }\n",
       "</style>\n",
       "<table border=\"1\" class=\"dataframe\">\n",
       "  <thead>\n",
       "    <tr style=\"text-align: right;\">\n",
       "      <th></th>\n",
       "      <th>10_Digit_BBL</th>\n",
       "      <th>GeoBuilding</th>\n",
       "      <th>Latitude</th>\n",
       "      <th>Longitude</th>\n",
       "    </tr>\n",
       "  </thead>\n",
       "  <tbody>\n",
       "    <tr>\n",
       "      <th>0</th>\n",
       "      <td>3017620041</td>\n",
       "      <td>{\"type\":\"Feature\",\"geometry\":{\"type\":\"MultiPol...</td>\n",
       "      <td>-73.955008</td>\n",
       "      <td>40.692556</td>\n",
       "    </tr>\n",
       "    <tr>\n",
       "      <th>1</th>\n",
       "      <td>1007017501</td>\n",
       "      <td>NaN</td>\n",
       "      <td>NaN</td>\n",
       "      <td>NaN</td>\n",
       "    </tr>\n",
       "    <tr>\n",
       "      <th>2</th>\n",
       "      <td>3021077502</td>\n",
       "      <td>NaN</td>\n",
       "      <td>NaN</td>\n",
       "      <td>NaN</td>\n",
       "    </tr>\n",
       "    <tr>\n",
       "      <th>3</th>\n",
       "      <td>1000130001</td>\n",
       "      <td>{\"type\":\"Feature\",\"geometry\":{\"type\":\"MultiPol...</td>\n",
       "      <td>-74.014611</td>\n",
       "      <td>40.704959</td>\n",
       "    </tr>\n",
       "    <tr>\n",
       "      <th>4</th>\n",
       "      <td>1000130005</td>\n",
       "      <td>{\"type\":\"Feature\",\"geometry\":{\"type\":\"MultiPol...</td>\n",
       "      <td>-74.014242</td>\n",
       "      <td>40.705379</td>\n",
       "    </tr>\n",
       "  </tbody>\n",
       "</table>\n",
       "</div>"
      ],
      "text/plain": [
       "   10_Digit_BBL                                        GeoBuilding   Latitude  \\\n",
       "0    3017620041  {\"type\":\"Feature\",\"geometry\":{\"type\":\"MultiPol... -73.955008   \n",
       "1    1007017501                                                NaN        NaN   \n",
       "2    3021077502                                                NaN        NaN   \n",
       "3    1000130001  {\"type\":\"Feature\",\"geometry\":{\"type\":\"MultiPol... -74.014611   \n",
       "4    1000130005  {\"type\":\"Feature\",\"geometry\":{\"type\":\"MultiPol... -74.014242   \n",
       "\n",
       "   Longitude  \n",
       "0  40.692556  \n",
       "1        NaN  \n",
       "2        NaN  \n",
       "3  40.704959  \n",
       "4  40.705379  "
      ]
     },
     "execution_count": 6,
     "metadata": {},
     "output_type": "execute_result"
    }
   ],
   "source": [
    "geojson_lookup_data.head()"
   ]
  },
  {
   "cell_type": "code",
   "execution_count": 7,
   "id": "5d5cfba7",
   "metadata": {
    "execution": {
     "iopub.execute_input": "2024-05-23T05:15:58.585420Z",
     "iopub.status.busy": "2024-05-23T05:15:58.585005Z",
     "iopub.status.idle": "2024-05-23T05:15:58.596130Z",
     "shell.execute_reply": "2024-05-23T05:15:58.595127Z"
    },
    "papermill": {
     "duration": 0.0201,
     "end_time": "2024-05-23T05:15:58.598438",
     "exception": false,
     "start_time": "2024-05-23T05:15:58.578338",
     "status": "completed"
    },
    "tags": []
   },
   "outputs": [
    {
     "data": {
      "text/html": [
       "<div>\n",
       "<style scoped>\n",
       "    .dataframe tbody tr th:only-of-type {\n",
       "        vertical-align: middle;\n",
       "    }\n",
       "\n",
       "    .dataframe tbody tr th {\n",
       "        vertical-align: top;\n",
       "    }\n",
       "\n",
       "    .dataframe thead th {\n",
       "        text-align: right;\n",
       "    }\n",
       "</style>\n",
       "<table border=\"1\" class=\"dataframe\">\n",
       "  <thead>\n",
       "    <tr style=\"text-align: right;\">\n",
       "      <th></th>\n",
       "      <th>10_Digit_BBL</th>\n",
       "      <th>Street_Number</th>\n",
       "      <th>Street_Name</th>\n",
       "      <th>DOF_Gross_Square_Footage</th>\n",
       "      <th>Energy_Efficiency_Grade</th>\n",
       "      <th>Energy_Star_1-100_Score</th>\n",
       "    </tr>\n",
       "  </thead>\n",
       "  <tbody>\n",
       "    <tr>\n",
       "      <th>0</th>\n",
       "      <td>1007610020</td>\n",
       "      <td>325</td>\n",
       "      <td>WEST 37 STREET</td>\n",
       "      <td>48843</td>\n",
       "      <td>A</td>\n",
       "      <td>100</td>\n",
       "    </tr>\n",
       "    <tr>\n",
       "      <th>1</th>\n",
       "      <td>1007610022</td>\n",
       "      <td>313</td>\n",
       "      <td>WEST 37 STREET</td>\n",
       "      <td>82354</td>\n",
       "      <td>C</td>\n",
       "      <td>62</td>\n",
       "    </tr>\n",
       "    <tr>\n",
       "      <th>2</th>\n",
       "      <td>1007610028</td>\n",
       "      <td>307</td>\n",
       "      <td>WEST 37 STREET</td>\n",
       "      <td>102824</td>\n",
       "      <td>B</td>\n",
       "      <td>79</td>\n",
       "    </tr>\n",
       "    <tr>\n",
       "      <th>3</th>\n",
       "      <td>1007610033</td>\n",
       "      <td>545</td>\n",
       "      <td>8 AVENUE</td>\n",
       "      <td>166874</td>\n",
       "      <td>A</td>\n",
       "      <td>86</td>\n",
       "    </tr>\n",
       "    <tr>\n",
       "      <th>4</th>\n",
       "      <td>1007610037</td>\n",
       "      <td>555</td>\n",
       "      <td>8 AVENUE</td>\n",
       "      <td>162260</td>\n",
       "      <td>A</td>\n",
       "      <td>100</td>\n",
       "    </tr>\n",
       "  </tbody>\n",
       "</table>\n",
       "</div>"
      ],
      "text/plain": [
       "   10_Digit_BBL  Street_Number     Street_Name  DOF_Gross_Square_Footage  \\\n",
       "0    1007610020            325  WEST 37 STREET                     48843   \n",
       "1    1007610022            313  WEST 37 STREET                     82354   \n",
       "2    1007610028            307  WEST 37 STREET                    102824   \n",
       "3    1007610033            545        8 AVENUE                    166874   \n",
       "4    1007610037            555        8 AVENUE                    162260   \n",
       "\n",
       "  Energy_Efficiency_Grade  Energy_Star_1-100_Score  \n",
       "0                       A                      100  \n",
       "1                       C                       62  \n",
       "2                       B                       79  \n",
       "3                       A                       86  \n",
       "4                       A                      100  "
      ]
     },
     "execution_count": 7,
     "metadata": {},
     "output_type": "execute_result"
    }
   ],
   "source": [
    "energy_disclosure_data.head()"
   ]
  },
  {
   "cell_type": "code",
   "execution_count": 8,
   "id": "33a5f14e",
   "metadata": {
    "execution": {
     "iopub.execute_input": "2024-05-23T05:15:58.611098Z",
     "iopub.status.busy": "2024-05-23T05:15:58.610698Z",
     "iopub.status.idle": "2024-05-23T05:15:58.615792Z",
     "shell.execute_reply": "2024-05-23T05:15:58.614833Z"
    },
    "papermill": {
     "duration": 0.014453,
     "end_time": "2024-05-23T05:15:58.618400",
     "exception": false,
     "start_time": "2024-05-23T05:15:58.603947",
     "status": "completed"
    },
    "tags": []
   },
   "outputs": [
    {
     "name": "stdout",
     "output_type": "stream",
     "text": [
      "Index(['10_Digit_BBL', 'GeoBuilding', 'Latitude', 'Longitude'], dtype='object')\n"
     ]
    }
   ],
   "source": [
    "print(geojson_lookup_data.columns)\n"
   ]
  },
  {
   "cell_type": "code",
   "execution_count": 9,
   "id": "eba2dee4",
   "metadata": {
    "execution": {
     "iopub.execute_input": "2024-05-23T05:15:58.630730Z",
     "iopub.status.busy": "2024-05-23T05:15:58.630370Z",
     "iopub.status.idle": "2024-05-23T05:15:58.635815Z",
     "shell.execute_reply": "2024-05-23T05:15:58.634896Z"
    },
    "papermill": {
     "duration": 0.014104,
     "end_time": "2024-05-23T05:15:58.637940",
     "exception": false,
     "start_time": "2024-05-23T05:15:58.623836",
     "status": "completed"
    },
    "tags": []
   },
   "outputs": [
    {
     "name": "stdout",
     "output_type": "stream",
     "text": [
      "Index(['10_Digit_BBL', 'Street_Number', 'Street_Name',\n",
      "       'DOF_Gross_Square_Footage', 'Energy_Efficiency_Grade',\n",
      "       'Energy_Star_1-100_Score'],\n",
      "      dtype='object')\n"
     ]
    }
   ],
   "source": [
    "print(energy_disclosure_data.columns)\n"
   ]
  },
  {
   "cell_type": "code",
   "execution_count": 10,
   "id": "9e22286f",
   "metadata": {
    "execution": {
     "iopub.execute_input": "2024-05-23T05:15:58.651152Z",
     "iopub.status.busy": "2024-05-23T05:15:58.650375Z",
     "iopub.status.idle": "2024-05-23T05:15:59.192532Z",
     "shell.execute_reply": "2024-05-23T05:15:59.191433Z"
    },
    "papermill": {
     "duration": 0.551473,
     "end_time": "2024-05-23T05:15:59.195005",
     "exception": false,
     "start_time": "2024-05-23T05:15:58.643532",
     "status": "completed"
    },
    "tags": []
   },
   "outputs": [
    {
     "name": "stdout",
     "output_type": "stream",
     "text": [
      "Classification Report:\n",
      "              precision    recall  f1-score   support\n",
      "\n",
      "           A       1.00      1.00      1.00         5\n",
      "           B       1.00      1.00      1.00         7\n",
      "           C       1.00      1.00      1.00         2\n",
      "           D       1.00      1.00      1.00         6\n",
      "\n",
      "    accuracy                           1.00        20\n",
      "   macro avg       1.00      1.00      1.00        20\n",
      "weighted avg       1.00      1.00      1.00        20\n",
      "\n"
     ]
    },
    {
     "data": {
      "image/png": "[encoded data removed]",
      "text/plain": [
       "<Figure size 800x600 with 2 Axes>"
      ]
     },
     "metadata": {},
     "output_type": "display_data"
    }
   ],
   "source": [
    "import pandas as pd\n",
    "from sklearn.ensemble import RandomForestClassifier\n",
    "from sklearn.model_selection import train_test_split\n",
    "from sklearn.metrics import classification_report, confusion_matrix\n",
    "import matplotlib.pyplot as plt\n",
    "import seaborn as sns\n",
    "import numpy as np\n",
    "\n",
    "# Load the datasets\n",
    "energy_data = pd.read_csv('/kaggle/input/nyc-building-energy-efficiency-ratings/energy_disclosure_2021_rows.csv')\n",
    "geojson_lookup_data = pd.read_csv('/kaggle/input/nyc-building-energy-efficiency-ratings/geojson_lookup_rows.csv')\n",
    "\n",
    "# Drop rows with missing values\n",
    "energy_data.dropna(inplace=True)\n",
    "geojson_lookup_data.dropna(inplace=True)\n",
    "\n",
    "# Define features (X) and target (y) for classification\n",
    "X = energy_data[['Street_Number', 'DOF_Gross_Square_Footage', 'Energy_Star_1-100_Score']]\n",
    "y = energy_data['Energy_Efficiency_Grade']\n",
    "\n",
    "# Split the data into training and testing sets\n",
    "X_train, X_test, y_train, y_test = train_test_split(X, y, test_size=0.2, random_state=42, stratify=y)\n",
    "\n",
    "# Initialize the Random Forest classifier\n",
    "clf = RandomForestClassifier()\n",
    "\n",
    "# Train the classifier\n",
    "clf.fit(X_train, y_train)\n",
    "\n",
    "# Predictions\n",
    "y_pred = clf.predict(X_test)\n",
    "\n",
    "# Print Classification Report\n",
    "print(\"Classification Report:\")\n",
    "print(classification_report(y_test, y_pred))\n",
    "\n",
    "# Confusion Matrix\n",
    "conf_matrix = confusion_matrix(y_test, y_pred, labels=['A', 'B', 'C', 'D'])\n",
    "\n",
    "# Normalize Confusion Matrix\n",
    "conf_matrix_norm = conf_matrix.astype('float') / conf_matrix.sum(axis=1)[:, np.newaxis]\n",
    "\n",
    "# Plot Confusion Matrix\n",
    "plt.figure(figsize=(8, 6))\n",
    "sns.heatmap(conf_matrix_norm, annot=True, fmt=\".2f\", cmap=\"Blues\", xticklabels=['A', 'B', 'C', 'D'], yticklabels=['A', 'B', 'C', 'D'])\n",
    "plt.xlabel('Predicted')\n",
    "plt.ylabel('Actual')\n",
    "plt.title('Normalized Confusion Matrix')\n",
    "plt.show()\n",
    "\n"
   ]
  },
  {
   "cell_type": "code",
   "execution_count": 11,
   "id": "ddff8a09",
   "metadata": {
    "execution": {
     "iopub.execute_input": "2024-05-23T05:15:59.209776Z",
     "iopub.status.busy": "2024-05-23T05:15:59.208700Z",
     "iopub.status.idle": "2024-05-23T05:15:59.453618Z",
     "shell.execute_reply": "2024-05-23T05:15:59.452603Z"
    },
    "papermill": {
     "duration": 0.254668,
     "end_time": "2024-05-23T05:15:59.455914",
     "exception": false,
     "start_time": "2024-05-23T05:15:59.201246",
     "status": "completed"
    },
    "tags": []
   },
   "outputs": [
    {
     "data": {
      "image/png": "[encoded data removed]",
      "text/plain": [
       "<Figure size 1000x600 with 1 Axes>"
      ]
     },
     "metadata": {},
     "output_type": "display_data"
    }
   ],
   "source": [
    "# Feature Importance\n",
    "feature_importances = clf.feature_importances_\n",
    "features = X.columns\n",
    "\n",
    "# Plot Feature Importance\n",
    "plt.figure(figsize=(10, 6))\n",
    "sns.barplot(x=feature_importances, y=features)\n",
    "plt.title('Feature Importance')\n",
    "plt.xlabel('Importance Score')\n",
    "plt.ylabel('Feature')\n",
    "plt.show()\n"
   ]
  },
  {
   "cell_type": "markdown",
   "id": "40133c0e",
   "metadata": {
    "papermill": {
     "duration": 0.007518,
     "end_time": "2024-05-23T05:15:59.470038",
     "exception": false,
     "start_time": "2024-05-23T05:15:59.462520",
     "status": "completed"
    },
    "tags": []
   },
   "source": [
    ">  Error Analysis\n",
    "> \n",
    "> Analyzing the errors can help us understand where the model is making mistakes and why. We can look at the confusion matrix to identify which classes are most often confused with each other."
   ]
  },
  {
   "cell_type": "code",
   "execution_count": 12,
   "id": "427991bc",
   "metadata": {
    "execution": {
     "iopub.execute_input": "2024-05-23T05:15:59.485377Z",
     "iopub.status.busy": "2024-05-23T05:15:59.484694Z",
     "iopub.status.idle": "2024-05-23T05:15:59.669585Z",
     "shell.execute_reply": "2024-05-23T05:15:59.668549Z"
    },
    "papermill": {
     "duration": 0.19555,
     "end_time": "2024-05-23T05:15:59.672264",
     "exception": false,
     "start_time": "2024-05-23T05:15:59.476714",
     "status": "completed"
    },
    "tags": []
   },
   "outputs": [
    {
     "name": "stdout",
     "output_type": "stream",
     "text": [
      "Class Distribution in y_train:\n",
      "Energy_Efficiency_Grade\n",
      "D    27\n",
      "B    27\n",
      "A    18\n",
      "C     8\n",
      "Name: count, dtype: int64\n",
      "Classification Report after handling class imbalance:\n",
      "              precision    recall  f1-score   support\n",
      "\n",
      "           A       1.00      1.00      1.00         5\n",
      "           B       1.00      1.00      1.00         7\n",
      "           C       1.00      0.50      0.67         2\n",
      "           D       0.86      1.00      0.92         6\n",
      "\n",
      "    accuracy                           0.95        20\n",
      "   macro avg       0.96      0.88      0.90        20\n",
      "weighted avg       0.96      0.95      0.94        20\n",
      "\n"
     ]
    }
   ],
   "source": [
    "# Check class distribution in y_train\n",
    "class_distribution = y_train.value_counts()\n",
    "print(\"Class Distribution in y_train:\")\n",
    "print(class_distribution)\n",
    "\n",
    "# Adjust class weights in the RandomForestClassifier\n",
    "class_weights = {cls: 1.0/class_distribution[cls] for cls in class_distribution.index}\n",
    "clf = RandomForestClassifier(class_weight=class_weights)\n",
    "clf.fit(X_train, y_train)\n",
    "y_pred = clf.predict(X_test)\n",
    "\n",
    "# Print Classification Report again after handling imbalance\n",
    "print(\"Classification Report after handling class imbalance:\")\n",
    "print(classification_report(y_test, y_pred))\n"
   ]
  },
  {
   "cell_type": "code",
   "execution_count": 13,
   "id": "07462ff6",
   "metadata": {
    "execution": {
     "iopub.execute_input": "2024-05-23T05:15:59.687723Z",
     "iopub.status.busy": "2024-05-23T05:15:59.687326Z",
     "iopub.status.idle": "2024-05-23T05:16:05.290421Z",
     "shell.execute_reply": "2024-05-23T05:16:05.289218Z"
    },
    "papermill": {
     "duration": 5.614355,
     "end_time": "2024-05-23T05:16:05.293506",
     "exception": false,
     "start_time": "2024-05-23T05:15:59.679151",
     "status": "completed"
    },
    "tags": []
   },
   "outputs": [
    {
     "name": "stdout",
     "output_type": "stream",
     "text": [
      "Fitting 3 folds for each of 6 candidates, totalling 18 fits\n"
     ]
    },
    {
     "data": {
      "image/png": "[encoded data removed]",
      "text/plain": [
       "<Figure size 1000x600 with 1 Axes>"
      ]
     },
     "metadata": {},
     "output_type": "display_data"
    },
    {
     "name": "stdout",
     "output_type": "stream",
     "text": [
      "Best parameters: {'n_estimators': 300}\n",
      "Best score: 0.8814051445630393\n"
     ]
    }
   ],
   "source": [
    "import pandas as pd\n",
    "from sklearn.ensemble import RandomForestClassifier\n",
    "from sklearn.model_selection import train_test_split, GridSearchCV\n",
    "from sklearn.metrics import classification_report, make_scorer, f1_score\n",
    "import matplotlib.pyplot as plt\n",
    "import seaborn as sns\n",
    "\n",
    "# Load the datasets\n",
    "energy_data = pd.read_csv('/kaggle/input/nyc-building-energy-efficiency-ratings/energy_disclosure_2021_rows.csv')\n",
    "geojson_lookup_data = pd.read_csv('/kaggle/input/nyc-building-energy-efficiency-ratings/geojson_lookup_rows.csv')\n",
    "\n",
    "# Drop rows with missing values\n",
    "energy_data.dropna(inplace=True)\n",
    "geojson_lookup_data.dropna(inplace=True)\n",
    "\n",
    "# Define features (X) and target (y) for classification\n",
    "X = energy_data[['Street_Number', 'DOF_Gross_Square_Footage', 'Energy_Star_1-100_Score']]\n",
    "y = energy_data['Energy_Efficiency_Grade']\n",
    "\n",
    "# Split the data into training and testing sets\n",
    "X_train, X_test, y_train, y_test = train_test_split(X, y, test_size=0.2, random_state=42, stratify=y)\n",
    "\n",
    "# Initialize the Random Forest classifier\n",
    "clf = RandomForestClassifier()\n",
    "\n",
    "# Define the parameter grid\n",
    "param_grid = {'n_estimators': [50, 100, 150, 200, 250, 300]}\n",
    "\n",
    "# Initialize Grid Search with F1 score as the metric\n",
    "grid_search = GridSearchCV(estimator=clf, param_grid=param_grid, cv=3, scoring=make_scorer(f1_score, average='weighted'), n_jobs=-1, verbose=2)\n",
    "\n",
    "# Fit the model\n",
    "grid_search.fit(X_train, y_train)\n",
    "\n",
    "# Get the results of the grid search\n",
    "cv_results = grid_search.cv_results_\n",
    "\n",
    "# Plot the optimization curve\n",
    "plt.figure(figsize=(10, 6))\n",
    "plt.plot(param_grid['n_estimators'], cv_results['mean_test_score'], marker='o')\n",
    "plt.title('Optimization Curve for n_estimators')\n",
    "plt.xlabel('Number of Estimators')\n",
    "plt.ylabel('Mean Weighted F1 Score')\n",
    "plt.grid(True)\n",
    "plt.show()\n",
    "\n",
    "# Best parameters and best score\n",
    "best_params = grid_search.best_params_\n",
    "best_score = grid_search.best_score_\n",
    "print(f\"Best parameters: {best_params}\")\n",
    "print(f\"Best score: {best_score}\")\n"
   ]
  },
  {
   "cell_type": "code",
   "execution_count": 14,
   "id": "29647549",
   "metadata": {
    "execution": {
     "iopub.execute_input": "2024-05-23T05:16:05.311048Z",
     "iopub.status.busy": "2024-05-23T05:16:05.310605Z",
     "iopub.status.idle": "2024-05-23T05:16:18.991158Z",
     "shell.execute_reply": "2024-05-23T05:16:18.990125Z"
    },
    "papermill": {
     "duration": 13.692875,
     "end_time": "2024-05-23T05:16:18.994162",
     "exception": false,
     "start_time": "2024-05-23T05:16:05.301287",
     "status": "completed"
    },
    "tags": []
   },
   "outputs": [
    {
     "name": "stdout",
     "output_type": "stream",
     "text": [
      "Fitting 3 folds for each of 36 candidates, totalling 108 fits\n"
     ]
    },
    {
     "data": {
      "text/html": [
       "        <script type=\"text/javascript\">\n",
       "        window.PlotlyConfig = {MathJaxConfig: 'local'};\n",
       "        if (window.MathJax && window.MathJax.Hub && window.MathJax.Hub.Config) {window.MathJax.Hub.Config({SVG: {font: \"STIX-Web\"}});}\n",
       "        if (typeof require !== 'undefined') {\n",
       "        require.undef(\"plotly\");\n",
       "        requirejs.config({\n",
       "            paths: {\n",
       "                'plotly': ['https://cdn.plot.ly/plotly-2.27.0.min']\n",
       "            }\n",
       "        });\n",
       "        require(['plotly'], function(Plotly) {\n",
       "            window._Plotly = Plotly;\n",
       "        });\n",
       "        }\n",
       "        </script>\n",
       "        "
      ]
     },
     "metadata": {},
     "output_type": "display_data"
    },
    {
     "data": {
      "text/html": [
       "<div>                            <div id=\"72a9d8ff-d2d9-47f5-b8c9-f7042200313f\" class=\"plotly-graph-div\" style=\"height:600px; width:800px;\"></div>            <script type=\"text/javascript\">                require([\"plotly\"], function(Plotly) {                    window.PLOTLYENV=window.PLOTLYENV || {};                                    if (document.getElementById(\"72a9d8ff-d2d9-47f5-b8c9-f7042200313f\")) {                    Plotly.newPlot(                        \"72a9d8ff-d2d9-47f5-b8c9-f7042200313f\",                        [{\"colorscale\":[[0.0,\"#440154\"],[0.1111111111111111,\"#482878\"],[0.2222222222222222,\"#3e4989\"],[0.3333333333333333,\"#31688e\"],[0.4444444444444444,\"#26828e\"],[0.5555555555555556,\"#1f9e89\"],[0.6666666666666666,\"#35b779\"],[0.7777777777777778,\"#6ece58\"],[0.8888888888888888,\"#b5de2b\"],[1.0,\"#fde725\"]],\"x\":[50,100,150,200,250,300],\"y\":[\"10\",\"20\",\"30\",\"40\",\"50\",\"None\"],\"z\":[[0.8755935422602089,0.9126305792972461,0.9002849002849004,0.9126305792972461,0.8998100664767331,0.9126305792972461],[0.8746438746438746,0.9002849002849004,0.8879392212725546,0.9002849002849004,0.9126305792972461,0.9002849002849004],[0.8746438746438746,0.8874643874643874,0.8879392212725546,0.8879392212725546,0.9002849002849004,0.8879392212725546],[0.8627730294396961,0.8755935422602089,0.8879392212725546,0.8879392212725546,0.9002849002849004,0.9002849002849004],[0.9126305792972461,0.8627730294396961,0.9249762583095916,0.8879392212725546,0.9002849002849004,0.9002849002849004],[0.8746438746438746,0.9126305792972461,0.9126305792972461,0.9002849002849004,0.8998100664767331,0.8874643874643874]],\"type\":\"surface\"},{\"marker\":{\"color\":\"red\",\"size\":10,\"symbol\":\"diamond\"},\"mode\":\"markers+text\",\"name\":\"Best Score\",\"text\":[\"Best Score: 0.9250\"],\"textposition\":\"top center\",\"x\":[250],\"y\":[\"30\"],\"z\":[0.9249762583095916],\"type\":\"scatter3d\"}],                        {\"template\":{\"data\":{\"histogram2dcontour\":[{\"type\":\"histogram2dcontour\",\"colorbar\":{\"outlinewidth\":0,\"ticks\":\"\"},\"colorscale\":[[0.0,\"#0d0887\"],[0.1111111111111111,\"#46039f\"],[0.2222222222222222,\"#7201a8\"],[0.3333333333333333,\"#9c179e\"],[0.4444444444444444,\"#bd3786\"],[0.5555555555555556,\"#d8576b\"],[0.6666666666666666,\"#ed7953\"],[0.7777777777777778,\"#fb9f3a\"],[0.8888888888888888,\"#fdca26\"],[1.0,\"#f0f921\"]]}],\"choropleth\":[{\"type\":\"choropleth\",\"colorbar\":{\"outlinewidth\":0,\"ticks\":\"\"}}],\"histogram2d\":[{\"type\":\"histogram2d\",\"colorbar\":{\"outlinewidth\":0,\"ticks\":\"\"},\"colorscale\":[[0.0,\"#0d0887\"],[0.1111111111111111,\"#46039f\"],[0.2222222222222222,\"#7201a8\"],[0.3333333333333333,\"#9c179e\"],[0.4444444444444444,\"#bd3786\"],[0.5555555555555556,\"#d8576b\"],[0.6666666666666666,\"#ed7953\"],[0.7777777777777778,\"#fb9f3a\"],[0.8888888888888888,\"#fdca26\"],[1.0,\"#f0f921\"]]}],\"heatmap\":[{\"type\":\"heatmap\",\"colorbar\":{\"outlinewidth\":0,\"ticks\":\"\"},\"colorscale\":[[0.0,\"#0d0887\"],[0.1111111111111111,\"#46039f\"],[0.2222222222222222,\"#7201a8\"],[0.3333333333333333,\"#9c179e\"],[0.4444444444444444,\"#bd3786\"],[0.5555555555555556,\"#d8576b\"],[0.6666666666666666,\"#ed7953\"],[0.7777777777777778,\"#fb9f3a\"],[0.8888888888888888,\"#fdca26\"],[1.0,\"#f0f921\"]]}],\"heatmapgl\":[{\"type\":\"heatmapgl\",\"colorbar\":{\"outlinewidth\":0,\"ticks\":\"\"},\"colorscale\":[[0.0,\"#0d0887\"],[0.1111111111111111,\"#46039f\"],[0.2222222222222222,\"#7201a8\"],[0.3333333333333333,\"#9c179e\"],[0.4444444444444444,\"#bd3786\"],[0.5555555555555556,\"#d8576b\"],[0.6666666666666666,\"#ed7953\"],[0.7777777777777778,\"#fb9f3a\"],[0.8888888888888888,\"#fdca26\"],[1.0,\"#f0f921\"]]}],\"contourcarpet\":[{\"type\":\"contourcarpet\",\"colorbar\":{\"outlinewidth\":0,\"ticks\":\"\"}}],\"contour\":[{\"type\":\"contour\",\"colorbar\":{\"outlinewidth\":0,\"ticks\":\"\"},\"colorscale\":[[0.0,\"#0d0887\"],[0.1111111111111111,\"#46039f\"],[0.2222222222222222,\"#7201a8\"],[0.3333333333333333,\"#9c179e\"],[0.4444444444444444,\"#bd3786\"],[0.5555555555555556,\"#d8576b\"],[0.6666666666666666,\"#ed7953\"],[0.7777777777777778,\"#fb9f3a\"],[0.8888888888888888,\"#fdca26\"],[1.0,\"#f0f921\"]]}],\"surface\":[{\"type\":\"surface\",\"colorbar\":{\"outlinewidth\":0,\"ticks\":\"\"},\"colorscale\":[[0.0,\"#0d0887\"],[0.1111111111111111,\"#46039f\"],[0.2222222222222222,\"#7201a8\"],[0.3333333333333333,\"#9c179e\"],[0.4444444444444444,\"#bd3786\"],[0.5555555555555556,\"#d8576b\"],[0.6666666666666666,\"#ed7953\"],[0.7777777777777778,\"#fb9f3a\"],[0.8888888888888888,\"#fdca26\"],[1.0,\"#f0f921\"]]}],\"mesh3d\":[{\"type\":\"mesh3d\",\"colorbar\":{\"outlinewidth\":0,\"ticks\":\"\"}}],\"scatter\":[{\"fillpattern\":{\"fillmode\":\"overlay\",\"size\":10,\"solidity\":0.2},\"type\":\"scatter\"}],\"parcoords\":[{\"type\":\"parcoords\",\"line\":{\"colorbar\":{\"outlinewidth\":0,\"ticks\":\"\"}}}],\"scatterpolargl\":[{\"type\":\"scatterpolargl\",\"marker\":{\"colorbar\":{\"outlinewidth\":0,\"ticks\":\"\"}}}],\"bar\":[{\"error_x\":{\"color\":\"#2a3f5f\"},\"error_y\":{\"color\":\"#2a3f5f\"},\"marker\":{\"line\":{\"color\":\"#E5ECF6\",\"width\":0.5},\"pattern\":{\"fillmode\":\"overlay\",\"size\":10,\"solidity\":0.2}},\"type\":\"bar\"}],\"scattergeo\":[{\"type\":\"scattergeo\",\"marker\":{\"colorbar\":{\"outlinewidth\":0,\"ticks\":\"\"}}}],\"scatterpolar\":[{\"type\":\"scatterpolar\",\"marker\":{\"colorbar\":{\"outlinewidth\":0,\"ticks\":\"\"}}}],\"histogram\":[{\"marker\":{\"pattern\":{\"fillmode\":\"overlay\",\"size\":10,\"solidity\":0.2}},\"type\":\"histogram\"}],\"scattergl\":[{\"type\":\"scattergl\",\"marker\":{\"colorbar\":{\"outlinewidth\":0,\"ticks\":\"\"}}}],\"scatter3d\":[{\"type\":\"scatter3d\",\"line\":{\"colorbar\":{\"outlinewidth\":0,\"ticks\":\"\"}},\"marker\":{\"colorbar\":{\"outlinewidth\":0,\"ticks\":\"\"}}}],\"scattermapbox\":[{\"type\":\"scattermapbox\",\"marker\":{\"colorbar\":{\"outlinewidth\":0,\"ticks\":\"\"}}}],\"scatterternary\":[{\"type\":\"scatterternary\",\"marker\":{\"colorbar\":{\"outlinewidth\":0,\"ticks\":\"\"}}}],\"scattercarpet\":[{\"type\":\"scattercarpet\",\"marker\":{\"colorbar\":{\"outlinewidth\":0,\"ticks\":\"\"}}}],\"carpet\":[{\"aaxis\":{\"endlinecolor\":\"#2a3f5f\",\"gridcolor\":\"white\",\"linecolor\":\"white\",\"minorgridcolor\":\"white\",\"startlinecolor\":\"#2a3f5f\"},\"baxis\":{\"endlinecolor\":\"#2a3f5f\",\"gridcolor\":\"white\",\"linecolor\":\"white\",\"minorgridcolor\":\"white\",\"startlinecolor\":\"#2a3f5f\"},\"type\":\"carpet\"}],\"table\":[{\"cells\":{\"fill\":{\"color\":\"#EBF0F8\"},\"line\":{\"color\":\"white\"}},\"header\":{\"fill\":{\"color\":\"#C8D4E3\"},\"line\":{\"color\":\"white\"}},\"type\":\"table\"}],\"barpolar\":[{\"marker\":{\"line\":{\"color\":\"#E5ECF6\",\"width\":0.5},\"pattern\":{\"fillmode\":\"overlay\",\"size\":10,\"solidity\":0.2}},\"type\":\"barpolar\"}],\"pie\":[{\"automargin\":true,\"type\":\"pie\"}]},\"layout\":{\"autotypenumbers\":\"strict\",\"colorway\":[\"#636efa\",\"#EF553B\",\"#00cc96\",\"#ab63fa\",\"#FFA15A\",\"#19d3f3\",\"#FF6692\",\"#B6E880\",\"#FF97FF\",\"#FECB52\"],\"font\":{\"color\":\"#2a3f5f\"},\"hovermode\":\"closest\",\"hoverlabel\":{\"align\":\"left\"},\"paper_bgcolor\":\"white\",\"plot_bgcolor\":\"#E5ECF6\",\"polar\":{\"bgcolor\":\"#E5ECF6\",\"angularaxis\":{\"gridcolor\":\"white\",\"linecolor\":\"white\",\"ticks\":\"\"},\"radialaxis\":{\"gridcolor\":\"white\",\"linecolor\":\"white\",\"ticks\":\"\"}},\"ternary\":{\"bgcolor\":\"#E5ECF6\",\"aaxis\":{\"gridcolor\":\"white\",\"linecolor\":\"white\",\"ticks\":\"\"},\"baxis\":{\"gridcolor\":\"white\",\"linecolor\":\"white\",\"ticks\":\"\"},\"caxis\":{\"gridcolor\":\"white\",\"linecolor\":\"white\",\"ticks\":\"\"}},\"coloraxis\":{\"colorbar\":{\"outlinewidth\":0,\"ticks\":\"\"}},\"colorscale\":{\"sequential\":[[0.0,\"#0d0887\"],[0.1111111111111111,\"#46039f\"],[0.2222222222222222,\"#7201a8\"],[0.3333333333333333,\"#9c179e\"],[0.4444444444444444,\"#bd3786\"],[0.5555555555555556,\"#d8576b\"],[0.6666666666666666,\"#ed7953\"],[0.7777777777777778,\"#fb9f3a\"],[0.8888888888888888,\"#fdca26\"],[1.0,\"#f0f921\"]],\"sequentialminus\":[[0.0,\"#0d0887\"],[0.1111111111111111,\"#46039f\"],[0.2222222222222222,\"#7201a8\"],[0.3333333333333333,\"#9c179e\"],[0.4444444444444444,\"#bd3786\"],[0.5555555555555556,\"#d8576b\"],[0.6666666666666666,\"#ed7953\"],[0.7777777777777778,\"#fb9f3a\"],[0.8888888888888888,\"#fdca26\"],[1.0,\"#f0f921\"]],\"diverging\":[[0,\"#8e0152\"],[0.1,\"#c51b7d\"],[0.2,\"#de77ae\"],[0.3,\"#f1b6da\"],[0.4,\"#fde0ef\"],[0.5,\"#f7f7f7\"],[0.6,\"#e6f5d0\"],[0.7,\"#b8e186\"],[0.8,\"#7fbc41\"],[0.9,\"#4d9221\"],[1,\"#276419\"]]},\"xaxis\":{\"gridcolor\":\"white\",\"linecolor\":\"white\",\"ticks\":\"\",\"title\":{\"standoff\":15},\"zerolinecolor\":\"white\",\"automargin\":true,\"zerolinewidth\":2},\"yaxis\":{\"gridcolor\":\"white\",\"linecolor\":\"white\",\"ticks\":\"\",\"title\":{\"standoff\":15},\"zerolinecolor\":\"white\",\"automargin\":true,\"zerolinewidth\":2},\"scene\":{\"xaxis\":{\"backgroundcolor\":\"#E5ECF6\",\"gridcolor\":\"white\",\"linecolor\":\"white\",\"showbackground\":true,\"ticks\":\"\",\"zerolinecolor\":\"white\",\"gridwidth\":2},\"yaxis\":{\"backgroundcolor\":\"#E5ECF6\",\"gridcolor\":\"white\",\"linecolor\":\"white\",\"showbackground\":true,\"ticks\":\"\",\"zerolinecolor\":\"white\",\"gridwidth\":2},\"zaxis\":{\"backgroundcolor\":\"#E5ECF6\",\"gridcolor\":\"white\",\"linecolor\":\"white\",\"showbackground\":true,\"ticks\":\"\",\"zerolinecolor\":\"white\",\"gridwidth\":2}},\"shapedefaults\":{\"line\":{\"color\":\"#2a3f5f\"}},\"annotationdefaults\":{\"arrowcolor\":\"#2a3f5f\",\"arrowhead\":0,\"arrowwidth\":1},\"geo\":{\"bgcolor\":\"white\",\"landcolor\":\"#E5ECF6\",\"subunitcolor\":\"white\",\"showland\":true,\"showlakes\":true,\"lakecolor\":\"white\"},\"title\":{\"x\":0.05},\"mapbox\":{\"style\":\"light\"}}},\"title\":{\"text\":\"3D Optimization Curve\"},\"scene\":{\"xaxis\":{\"title\":{\"text\":\"Number of Estimators\"}},\"yaxis\":{\"title\":{\"text\":\"Max Depth\"}},\"zaxis\":{\"title\":{\"text\":\"Mean Accuracy Score\"}}},\"width\":800,\"height\":600},                        {\"responsive\": true}                    ).then(function(){\n",
       "                            \n",
       "var gd = document.getElementById('72a9d8ff-d2d9-47f5-b8c9-f7042200313f');\n",
       "var x = new MutationObserver(function (mutations, observer) {{\n",
       "        var display = window.getComputedStyle(gd).display;\n",
       "        if (!display || display === 'none') {{\n",
       "            console.log([gd, 'removed!']);\n",
       "            Plotly.purge(gd);\n",
       "            observer.disconnect();\n",
       "        }}\n",
       "}});\n",
       "\n",
       "// Listen for the removal of the full notebook cells\n",
       "var notebookContainer = gd.closest('#notebook-container');\n",
       "if (notebookContainer) {{\n",
       "    x.observe(notebookContainer, {childList: true});\n",
       "}}\n",
       "\n",
       "// Listen for the clearing of the current output cell\n",
       "var outputEl = gd.closest('.output');\n",
       "if (outputEl) {{\n",
       "    x.observe(outputEl, {childList: true});\n",
       "}}\n",
       "\n",
       "                        })                };                });            </script>        </div>"
      ]
     },
     "metadata": {},
     "output_type": "display_data"
    },
    {
     "name": "stdout",
     "output_type": "stream",
     "text": [
      "Best parameters: {'max_depth': 50, 'n_estimators': 150}\n",
      "Best score: 0.9249762583095916\n"
     ]
    }
   ],
   "source": [
    "import pandas as pd\n",
    "from sklearn.ensemble import RandomForestClassifier\n",
    "from sklearn.model_selection import train_test_split, GridSearchCV\n",
    "from sklearn.metrics import make_scorer, accuracy_score\n",
    "import plotly.graph_objects as go\n",
    "import numpy as np\n",
    "\n",
    "# Load the datasets\n",
    "energy_data = pd.read_csv('/kaggle/input/nyc-building-energy-efficiency-ratings/energy_disclosure_2021_rows.csv')\n",
    "geojson_lookup_data = pd.read_csv('/kaggle/input/nyc-building-energy-efficiency-ratings/geojson_lookup_rows.csv')\n",
    "\n",
    "# Drop rows with missing values\n",
    "energy_data.dropna(inplace=True)\n",
    "geojson_lookup_data.dropna(inplace=True)\n",
    "\n",
    "# Define features (X) and target (y) for classification\n",
    "X = energy_data[['Street_Number', 'DOF_Gross_Square_Footage', 'Energy_Star_1-100_Score']]\n",
    "y = energy_data['Energy_Efficiency_Grade']\n",
    "\n",
    "# Split the data into training and testing sets\n",
    "X_train, X_test, y_train, y_test = train_test_split(X, y, test_size=0.2, random_state=42, stratify=y)\n",
    "\n",
    "# Initialize the Random Forest classifier\n",
    "clf = RandomForestClassifier()\n",
    "\n",
    "# Define the parameter grid\n",
    "param_grid = {\n",
    "    'n_estimators': [50, 100, 150, 200, 250, 300],\n",
    "    'max_depth': [10, 20, 30, 40, 50, None]\n",
    "}\n",
    "\n",
    "# Initialize Grid Search with accuracy as the metric\n",
    "grid_search = GridSearchCV(estimator=clf, param_grid=param_grid, cv=3, scoring='accuracy', n_jobs=-1, verbose=2)\n",
    "\n",
    "# Fit the model\n",
    "grid_search.fit(X_train, y_train)\n",
    "\n",
    "# Get the results of the grid search\n",
    "cv_results = grid_search.cv_results_\n",
    "\n",
    "# Extract mean test scores for each combination of hyperparameters\n",
    "mean_test_scores = cv_results['mean_test_score']\n",
    "\n",
    "# Create meshgrid for plotting\n",
    "n_estimators = param_grid['n_estimators']\n",
    "max_depth = [str(md) for md in param_grid['max_depth']]\n",
    "scores_matrix = mean_test_scores.reshape(len(n_estimators), len(max_depth))\n",
    "\n",
    "# Find the index of the best score\n",
    "best_index = np.argmax(mean_test_scores)\n",
    "best_n_estimators = n_estimators[best_index // len(max_depth)]\n",
    "best_max_depth = max_depth[best_index % len(max_depth)]\n",
    "best_score = mean_test_scores[best_index]\n",
    "\n",
    "# Plot 3D Surface\n",
    "fig = go.Figure(data=[go.Surface(z=scores_matrix, x=n_estimators, y=max_depth, colorscale='Viridis')])\n",
    "\n",
    "# Add marker for the best score\n",
    "fig.add_trace(go.Scatter3d(\n",
    "    x=[best_n_estimators],\n",
    "    y=[best_max_depth],\n",
    "    z=[best_score],\n",
    "    mode='markers+text',\n",
    "    marker=dict(size=10, color='red', symbol='diamond'),\n",
    "    text=[f'Best Score: {best_score:.4f}'],\n",
    "    textposition='top center',\n",
    "    name='Best Score'\n",
    "))\n",
    "\n",
    "fig.update_layout(\n",
    "    title='3D Optimization Curve',\n",
    "    scene=dict(\n",
    "        xaxis_title='Number of Estimators',\n",
    "        yaxis_title='Max Depth',\n",
    "        zaxis_title='Mean Accuracy Score'\n",
    "    ),\n",
    "    width=800,\n",
    "    height=600\n",
    ")\n",
    "\n",
    "fig.show()\n",
    "\n",
    "# Best parameters and best score\n",
    "best_params = grid_search.best_params_\n",
    "print(f\"Best parameters: {best_params}\")\n",
    "print(f\"Best score: {best_score}\")\n"
   ]
  },
  {
   "cell_type": "code",
   "execution_count": 15,
   "id": "ea2c9062",
   "metadata": {
    "execution": {
     "iopub.execute_input": "2024-05-23T05:16:19.012586Z",
     "iopub.status.busy": "2024-05-23T05:16:19.012188Z",
     "iopub.status.idle": "2024-05-23T05:16:19.696050Z",
     "shell.execute_reply": "2024-05-23T05:16:19.694882Z"
    },
    "papermill": {
     "duration": 0.69606,
     "end_time": "2024-05-23T05:16:19.698540",
     "exception": false,
     "start_time": "2024-05-23T05:16:19.002480",
     "status": "completed"
    },
    "tags": []
   },
   "outputs": [
    {
     "data": {
      "text/html": [
       "<div style=\"width:100%;\"><div style=\"position:relative;width:100%;height:0;padding-bottom:60%;\"><span style=\"color:#565656\">Make this Notebook Trusted to load map: File -> Trust Notebook</span><iframe srcdoc=\"&lt;!DOCTYPE html&gt;\n",
       "&lt;html&gt;\n",
       "&lt;head&gt;\n",
       "    \n",
       "    &lt;meta http-equiv=&quot;content-type&quot; content=&quot;text/html; charset=UTF-8&quot; /&gt;\n",
       "    \n",
       "        &lt;script&gt;\n",
       "            L_NO_TOUCH = false;\n",
       "            L_DISABLE_3D = false;\n",
       "        &lt;/script&gt;\n",
       "    \n",
       "    &lt;style&gt;html, body {width: 100%;height: 100%;margin: 0;padding: 0;}&lt;/style&gt;\n",
       "    &lt;style&gt;#map {position:absolute;top:0;bottom:0;right:0;left:0;}&lt;/style&gt;\n",
       "    &lt;script src=&quot;https://cdn.jsdelivr.net/npm/leaflet@1.9.3/dist/leaflet.js&quot;&gt;&lt;/script&gt;\n",
       "    &lt;script src=&quot;https://code.jquery.com/jquery-3.7.1.min.js&quot;&gt;&lt;/script&gt;\n",
       "    &lt;script src=&quot;https://cdn.jsdelivr.net/npm/bootstrap@5.2.2/dist/js/bootstrap.bundle.min.js&quot;&gt;&lt;/script&gt;\n",
       "    &lt;script src=&quot;https://cdnjs.cloudflare.com/ajax/libs/Leaflet.awesome-markers/2.0.2/leaflet.awesome-markers.js&quot;&gt;&lt;/script&gt;\n",
       "    &lt;link rel=&quot;stylesheet&quot; href=&quot;https://cdn.jsdelivr.net/npm/leaflet@1.9.3/dist/leaflet.css&quot;/&gt;\n",
       "    &lt;link rel=&quot;stylesheet&quot; href=&quot;https://cdn.jsdelivr.net/npm/bootstrap@5.2.2/dist/css/bootstrap.min.css&quot;/&gt;\n",
       "    &lt;link rel=&quot;stylesheet&quot; href=&quot;https://netdna.bootstrapcdn.com/bootstrap/3.0.0/css/bootstrap.min.css&quot;/&gt;\n",
       "    &lt;link rel=&quot;stylesheet&quot; href=&quot;https://cdn.jsdelivr.net/npm/@fortawesome/fontawesome-free@6.2.0/css/all.min.css&quot;/&gt;\n",
       "    &lt;link rel=&quot;stylesheet&quot; href=&quot;https://cdnjs.cloudflare.com/ajax/libs/Leaflet.awesome-markers/2.0.2/leaflet.awesome-markers.css&quot;/&gt;\n",
       "    &lt;link rel=&quot;stylesheet&quot; href=&quot;https://cdn.jsdelivr.net/gh/python-visualization/folium/folium/templates/leaflet.awesome.rotate.min.css&quot;/&gt;\n",
       "    \n",
       "            &lt;meta name=&quot;viewport&quot; content=&quot;width=device-width,\n",
       "                initial-scale=1.0, maximum-scale=1.0, user-scalable=no&quot; /&gt;\n",
       "            &lt;style&gt;\n",
       "                #map_30845ddced8b0c316602c1345528b824 {\n",
       "                    position: relative;\n",
       "                    width: 100.0%;\n",
       "                    height: 100.0%;\n",
       "                    left: 0.0%;\n",
       "                    top: 0.0%;\n",
       "                }\n",
       "                .leaflet-container { font-size: 1rem; }\n",
       "            &lt;/style&gt;\n",
       "        \n",
       "&lt;/head&gt;\n",
       "&lt;body&gt;\n",
       "    \n",
       "    \n",
       "            &lt;div class=&quot;folium-map&quot; id=&quot;map_30845ddced8b0c316602c1345528b824&quot; &gt;&lt;/div&gt;\n",
       "        \n",
       "&lt;/body&gt;\n",
       "&lt;script&gt;\n",
       "    \n",
       "    \n",
       "            var map_30845ddced8b0c316602c1345528b824 = L.map(\n",
       "                &quot;map_30845ddced8b0c316602c1345528b824&quot;,\n",
       "                {\n",
       "                    center: [40.7128, -74.006],\n",
       "                    crs: L.CRS.EPSG3857,\n",
       "                    zoom: 11,\n",
       "                    zoomControl: true,\n",
       "                    preferCanvas: false,\n",
       "                }\n",
       "            );\n",
       "\n",
       "            \n",
       "\n",
       "        \n",
       "    \n",
       "            var tile_layer_685dcaf3bc0d4ae2051122a821ec2e49 = L.tileLayer(\n",
       "                &quot;https://tile.openstreetmap.org/{z}/{x}/{y}.png&quot;,\n",
       "                {&quot;attribution&quot;: &quot;\\u0026copy; \\u003ca href=\\&quot;https://www.openstreetmap.org/copyright\\&quot;\\u003eOpenStreetMap\\u003c/a\\u003e contributors&quot;, &quot;detectRetina&quot;: false, &quot;maxNativeZoom&quot;: 19, &quot;maxZoom&quot;: 19, &quot;minZoom&quot;: 0, &quot;noWrap&quot;: false, &quot;opacity&quot;: 1, &quot;subdomains&quot;: &quot;abc&quot;, &quot;tms&quot;: false}\n",
       "            );\n",
       "        \n",
       "    \n",
       "            tile_layer_685dcaf3bc0d4ae2051122a821ec2e49.addTo(map_30845ddced8b0c316602c1345528b824);\n",
       "        \n",
       "    \n",
       "        function geo_json_f84ab141fdef29fd87c6501a0b4a9263_styler(feature) {\n",
       "            switch(feature.properties.base_bbl) {\n",
       "                default:\n",
       "                    return {&quot;color&quot;: &quot;black&quot;, &quot;fillColor&quot;: &quot;green&quot;, &quot;fillOpacity&quot;: 0.9, &quot;weight&quot;: 5};\n",
       "            }\n",
       "        }\n",
       "\n",
       "        function geo_json_f84ab141fdef29fd87c6501a0b4a9263_onEachFeature(feature, layer) {\n",
       "            layer.on({\n",
       "            });\n",
       "        };\n",
       "        var geo_json_f84ab141fdef29fd87c6501a0b4a9263 = L.geoJson(null, {\n",
       "                onEachFeature: geo_json_f84ab141fdef29fd87c6501a0b4a9263_onEachFeature,\n",
       "            \n",
       "                style: geo_json_f84ab141fdef29fd87c6501a0b4a9263_styler,\n",
       "        });\n",
       "\n",
       "        function geo_json_f84ab141fdef29fd87c6501a0b4a9263_add (data) {\n",
       "            geo_json_f84ab141fdef29fd87c6501a0b4a9263\n",
       "                .addData(data);\n",
       "        }\n",
       "            geo_json_f84ab141fdef29fd87c6501a0b4a9263_add({&quot;features&quot;: [{&quot;geometry&quot;: {&quot;coordinates&quot;: [[[[-74.0144911892529, 40.705102984746915], [-74.01451338783326, 40.70504741048443], [-74.01453282107086, 40.705051905187], [-74.01454131375694, 40.70503064393813], [-74.01448658783174, 40.70501798424368], [-74.01443709358375, 40.70500653505512], [-74.01445647034443, 40.7049580265702], [-74.01433118408315, 40.70492904486551], [-74.01430753780238, 40.70498824293199], [-74.01434701720105, 40.70499737550835], [-74.01431700104642, 40.705072523329385], [-74.01426260833847, 40.70505760410369], [-74.01409467674557, 40.705011542013196], [-74.01417721570864, 40.70480490230274], [-74.01418528389708, 40.70478470193435], [-74.01418900754727, 40.70478376044084], [-74.01424221893387, 40.70477030292829], [-74.01427929221938, 40.70477792836949], [-74.01450029433373, 40.704823383778034], [-74.01475889910529, 40.70487657294287], [-74.01478682015984, 40.70491314093367], [-74.01468354804297, 40.705147509573905], [-74.0144911892529, 40.705102984746915]]]], &quot;type&quot;: &quot;MultiPolygon&quot;}, &quot;properties&quot;: {&quot;base_bbl&quot;: &quot;1000130001&quot;, &quot;bin&quot;: &quot;1000043&quot;, &quot;cnstrct_yr&quot;: &quot;1887&quot;, &quot;doitt_id&quot;: &quot;50468&quot;, &quot;feat_code&quot;: &quot;2100&quot;, &quot;geomsource&quot;: &quot;Photogramm&quot;, &quot;groundelev&quot;: &quot;14&quot;, &quot;heightroof&quot;: &quot;178.64&quot;, &quot;lstmoddate&quot;: &quot;2020-01-28T00:00:00.000&quot;, &quot;lststatype&quot;: &quot;Constructed&quot;, &quot;mpluto_bbl&quot;: &quot;1000130001&quot;, &quot;name&quot;: null, &quot;shape_area&quot;: &quot;0.0&quot;, &quot;shape_len&quot;: &quot;0.0&quot;}, &quot;type&quot;: &quot;Feature&quot;}], &quot;type&quot;: &quot;FeatureCollection&quot;});\n",
       "\n",
       "        \n",
       "    \n",
       "            geo_json_f84ab141fdef29fd87c6501a0b4a9263.addTo(map_30845ddced8b0c316602c1345528b824);\n",
       "        \n",
       "    \n",
       "        function geo_json_a2b0572ecd3a15c92c0bab8851d2bbf8_styler(feature) {\n",
       "            switch(feature.properties.base_bbl) {\n",
       "                default:\n",
       "                    return {&quot;color&quot;: &quot;black&quot;, &quot;fillColor&quot;: &quot;green&quot;, &quot;fillOpacity&quot;: 0.9, &quot;weight&quot;: 5};\n",
       "            }\n",
       "        }\n",
       "\n",
       "        function geo_json_a2b0572ecd3a15c92c0bab8851d2bbf8_onEachFeature(feature, layer) {\n",
       "            layer.on({\n",
       "            });\n",
       "        };\n",
       "        var geo_json_a2b0572ecd3a15c92c0bab8851d2bbf8 = L.geoJson(null, {\n",
       "                onEachFeature: geo_json_a2b0572ecd3a15c92c0bab8851d2bbf8_onEachFeature,\n",
       "            \n",
       "                style: geo_json_a2b0572ecd3a15c92c0bab8851d2bbf8_styler,\n",
       "        });\n",
       "\n",
       "        function geo_json_a2b0572ecd3a15c92c0bab8851d2bbf8_add (data) {\n",
       "            geo_json_a2b0572ecd3a15c92c0bab8851d2bbf8\n",
       "                .addData(data);\n",
       "        }\n",
       "            geo_json_a2b0572ecd3a15c92c0bab8851d2bbf8_add({&quot;features&quot;: [{&quot;geometry&quot;: {&quot;coordinates&quot;: [[[[-74.01381510930473, 40.705401641464306], [-74.01380285550545, 40.705398761297666], [-74.0138010638829, 40.70539834007313], [-74.01388066900405, 40.70529099223474], [-74.0138869479534, 40.705292444902895], [-74.0138984479218, 40.705295104526336], [-74.01395302183688, 40.705219799855016], [-74.01402034089165, 40.7051269084168], [-74.01400982550715, 40.70512447561451], [-74.01400214901663, 40.70512269983941], [-74.01408551151123, 40.70500902800645], [-74.01408750076341, 40.70500957347295], [-74.01409467674557, 40.705011542013196], [-74.01426260833847, 40.70505760410369], [-74.01431700104642, 40.705072523329385], [-74.01431974174652, 40.70507327491558], [-74.01427135873415, 40.70513425545896], [-74.01429121748988, 40.70514202260832], [-74.01424980558457, 40.70520444759726], [-74.01422096218285, 40.7051977747722], [-74.01419463233971, 40.70523096277108], [-74.0141862647451, 40.70522902680247], [-74.01418270517455, 40.70522820327309], [-74.014148747387, 40.70527114834241], [-74.01413046074637, 40.705316929890934], [-74.01417865109887, 40.70532807770019], [-74.01419044101067, 40.705330804797114], [-74.01422162236244, 40.70525274011098], [-74.01434772097593, 40.70528191003941], [-74.01431585971858, 40.70536167320861], [-74.01436898242537, 40.70537396127264], [-74.0144215143346, 40.70524244400634], [-74.0143952056755, 40.70523635804083], [-74.01442043674176, 40.70517319210603], [-74.01445026471478, 40.70518009168646], [-74.0144807739386, 40.705103709168405], [-74.0144819199402, 40.70510083999458], [-74.0144911892529, 40.705102984746915], [-74.01468354804297, 40.705147509573905], [-74.01450159182477, 40.705560444168256], [-74.01438764231872, 40.705534085188724], [-74.0141593790981, 40.70548128138718], [-74.0139642813811, 40.70543614997418], [-74.01381510930473, 40.705401641464306]]]], &quot;type&quot;: &quot;MultiPolygon&quot;}, &quot;properties&quot;: {&quot;base_bbl&quot;: &quot;1000130005&quot;, &quot;bin&quot;: &quot;1000044&quot;, &quot;cnstrct_yr&quot;: &quot;1898&quot;, &quot;doitt_id&quot;: &quot;775767&quot;, &quot;feat_code&quot;: &quot;2100&quot;, &quot;geomsource&quot;: &quot;Photogramm&quot;, &quot;groundelev&quot;: &quot;16&quot;, &quot;heightroof&quot;: &quot;317.99&quot;, &quot;lstmoddate&quot;: &quot;2020-01-28T00:00:00.000&quot;, &quot;lststatype&quot;: &quot;Constructed&quot;, &quot;mpluto_bbl&quot;: &quot;1000130005&quot;, &quot;name&quot;: null, &quot;shape_area&quot;: &quot;0.0&quot;, &quot;shape_len&quot;: &quot;0.0&quot;}, &quot;type&quot;: &quot;Feature&quot;}], &quot;type&quot;: &quot;FeatureCollection&quot;});\n",
       "\n",
       "        \n",
       "    \n",
       "            geo_json_a2b0572ecd3a15c92c0bab8851d2bbf8.addTo(map_30845ddced8b0c316602c1345528b824);\n",
       "        \n",
       "    \n",
       "        function geo_json_2c4d22b95354a67a34078e4e28d0b8c0_styler(feature) {\n",
       "            switch(feature.properties.base_bbl) {\n",
       "                default:\n",
       "                    return {&quot;color&quot;: &quot;black&quot;, &quot;fillColor&quot;: &quot;blue&quot;, &quot;fillOpacity&quot;: 0.9, &quot;weight&quot;: 5};\n",
       "            }\n",
       "        }\n",
       "\n",
       "        function geo_json_2c4d22b95354a67a34078e4e28d0b8c0_onEachFeature(feature, layer) {\n",
       "            layer.on({\n",
       "            });\n",
       "        };\n",
       "        var geo_json_2c4d22b95354a67a34078e4e28d0b8c0 = L.geoJson(null, {\n",
       "                onEachFeature: geo_json_2c4d22b95354a67a34078e4e28d0b8c0_onEachFeature,\n",
       "            \n",
       "                style: geo_json_2c4d22b95354a67a34078e4e28d0b8c0_styler,\n",
       "        });\n",
       "\n",
       "        function geo_json_2c4d22b95354a67a34078e4e28d0b8c0_add (data) {\n",
       "            geo_json_2c4d22b95354a67a34078e4e28d0b8c0\n",
       "                .addData(data);\n",
       "        }\n",
       "            geo_json_2c4d22b95354a67a34078e4e28d0b8c0_add({&quot;features&quot;: [{&quot;geometry&quot;: {&quot;coordinates&quot;: [[[[-74.01304457862572, 40.706320520458455], [-74.01321517225465, 40.70611851629883], [-74.01323587395717, 40.706127537044345], [-74.01341333391959, 40.70620486412585], [-74.01358827831403, 40.70628109350671], [-74.01376133552826, 40.70635650158026], [-74.01379018533858, 40.70636907196768], [-74.013633599994, 40.70657718078153], [-74.0135821144968, 40.70655474702614], [-74.0134137824291, 40.70648139850447], [-74.01324719629538, 40.70640880956666], [-74.01308135135197, 40.70633654358647], [-74.01304457862572, 40.706320520458455]]]], &quot;type&quot;: &quot;MultiPolygon&quot;}, &quot;properties&quot;: {&quot;base_bbl&quot;: &quot;1000200004&quot;, &quot;bin&quot;: &quot;1000803&quot;, &quot;cnstrct_yr&quot;: &quot;1928&quot;, &quot;doitt_id&quot;: &quot;275485&quot;, &quot;feat_code&quot;: &quot;2100&quot;, &quot;geomsource&quot;: &quot;Photogramm&quot;, &quot;groundelev&quot;: &quot;24&quot;, &quot;heightroof&quot;: &quot;458.49550018&quot;, &quot;lstmoddate&quot;: &quot;2017-08-22T00:00:00.000&quot;, &quot;lststatype&quot;: &quot;Constructed&quot;, &quot;mpluto_bbl&quot;: &quot;1000200004&quot;, &quot;name&quot;: null, &quot;shape_area&quot;: &quot;0.0&quot;, &quot;shape_len&quot;: &quot;0.0&quot;}, &quot;type&quot;: &quot;Feature&quot;}], &quot;type&quot;: &quot;FeatureCollection&quot;});\n",
       "\n",
       "        \n",
       "    \n",
       "            geo_json_2c4d22b95354a67a34078e4e28d0b8c0.addTo(map_30845ddced8b0c316602c1345528b824);\n",
       "        \n",
       "    \n",
       "        function geo_json_199c4a062a629a8373cc3067441fa71c_styler(feature) {\n",
       "            switch(feature.properties.base_bbl) {\n",
       "                default:\n",
       "                    return {&quot;color&quot;: &quot;black&quot;, &quot;fillColor&quot;: &quot;green&quot;, &quot;fillOpacity&quot;: 0.9, &quot;weight&quot;: 5};\n",
       "            }\n",
       "        }\n",
       "\n",
       "        function geo_json_199c4a062a629a8373cc3067441fa71c_onEachFeature(feature, layer) {\n",
       "            layer.on({\n",
       "            });\n",
       "        };\n",
       "        var geo_json_199c4a062a629a8373cc3067441fa71c = L.geoJson(null, {\n",
       "                onEachFeature: geo_json_199c4a062a629a8373cc3067441fa71c_onEachFeature,\n",
       "            \n",
       "                style: geo_json_199c4a062a629a8373cc3067441fa71c_styler,\n",
       "        });\n",
       "\n",
       "        function geo_json_199c4a062a629a8373cc3067441fa71c_add (data) {\n",
       "            geo_json_199c4a062a629a8373cc3067441fa71c\n",
       "                .addData(data);\n",
       "        }\n",
       "            geo_json_199c4a062a629a8373cc3067441fa71c_add({&quot;features&quot;: [{&quot;geometry&quot;: {&quot;coordinates&quot;: [[[[-74.01241349572236, 40.70560595160188], [-74.01253101759428, 40.70535217924168], [-74.01253994024381, 40.70535472311543], [-74.01254377556317, 40.70535581591847], [-74.0125439920247, 40.70535536653964], [-74.01254420730372, 40.70535492166351], [-74.0126618697932, 40.70511129701016], [-74.0126955004925, 40.705092215069115], [-74.01270904830983, 40.70509291417206], [-74.012826443016, 40.705098967896426], [-74.01284089844162, 40.705099712808796], [-74.01324253836252, 40.70512042409244], [-74.01324647701492, 40.70517706040939], [-74.01325762133766, 40.70533731415019], [-74.01325543118622, 40.705361913674345], [-74.01324526909886, 40.70547605467245], [-74.01324347134434, 40.70548049800287], [-74.0131865119749, 40.70562130761201], [-74.01316042665839, 40.70568579351991], [-74.01312322823497, 40.70577774898892], [-74.01312947658302, 40.705779890593064], [-74.01309353793967, 40.70583385783356], [-74.01307863959252, 40.70585623093239], [-74.01305590040852, 40.70584767505332], [-74.01293075512046, 40.705800586128966], [-74.01280572598279, 40.705753540279915], [-74.01268076447568, 40.705706520402195], [-74.01255585994798, 40.70565952109405], [-74.01243103961778, 40.70561255315893], [-74.01241349572236, 40.70560595160188]]]], &quot;type&quot;: &quot;MultiPolygon&quot;}, &quot;properties&quot;: {&quot;base_bbl&quot;: &quot;1000220013&quot;, &quot;bin&quot;: &quot;1000811&quot;, &quot;cnstrct_yr&quot;: &quot;1885&quot;, &quot;doitt_id&quot;: &quot;119253&quot;, &quot;feat_code&quot;: &quot;2100&quot;, &quot;geomsource&quot;: &quot;Photogramm&quot;, &quot;groundelev&quot;: &quot;18&quot;, &quot;heightroof&quot;: &quot;473.97027824&quot;, &quot;lstmoddate&quot;: &quot;2020-01-28T00:00:00.000&quot;, &quot;lststatype&quot;: &quot;Constructed&quot;, &quot;mpluto_bbl&quot;: &quot;1000220013&quot;, &quot;name&quot;: null, &quot;shape_area&quot;: &quot;0.0&quot;, &quot;shape_len&quot;: &quot;0.0&quot;}, &quot;type&quot;: &quot;Feature&quot;}], &quot;type&quot;: &quot;FeatureCollection&quot;});\n",
       "\n",
       "        \n",
       "    \n",
       "            geo_json_199c4a062a629a8373cc3067441fa71c.addTo(map_30845ddced8b0c316602c1345528b824);\n",
       "        \n",
       "    \n",
       "        function geo_json_22f021b90a0ac3d16ade80fac6c81b34_styler(feature) {\n",
       "            switch(feature.properties.base_bbl) {\n",
       "                default:\n",
       "                    return {&quot;color&quot;: &quot;black&quot;, &quot;fillColor&quot;: &quot;green&quot;, &quot;fillOpacity&quot;: 0.9, &quot;weight&quot;: 5};\n",
       "            }\n",
       "        }\n",
       "\n",
       "        function geo_json_22f021b90a0ac3d16ade80fac6c81b34_onEachFeature(feature, layer) {\n",
       "            layer.on({\n",
       "            });\n",
       "        };\n",
       "        var geo_json_22f021b90a0ac3d16ade80fac6c81b34 = L.geoJson(null, {\n",
       "                onEachFeature: geo_json_22f021b90a0ac3d16ade80fac6c81b34_onEachFeature,\n",
       "            \n",
       "                style: geo_json_22f021b90a0ac3d16ade80fac6c81b34_styler,\n",
       "        });\n",
       "\n",
       "        function geo_json_22f021b90a0ac3d16ade80fac6c81b34_add (data) {\n",
       "            geo_json_22f021b90a0ac3d16ade80fac6c81b34\n",
       "                .addData(data);\n",
       "        }\n",
       "            geo_json_22f021b90a0ac3d16ade80fac6c81b34_add({&quot;features&quot;: [{&quot;geometry&quot;: {&quot;coordinates&quot;: [[[[-74.01212966623847, 40.70622147150156], [-74.01216831854711, 40.70613130552157], [-74.01221844527225, 40.70601437601205], [-74.01222422627902, 40.70601694545778], [-74.0123243969374, 40.706061469567146], [-74.01242649197582, 40.70610684886717], [-74.01252777177359, 40.706151866159566], [-74.01262800319229, 40.70619641701273], [-74.01272639569781, 40.70624015031735], [-74.01276123464254, 40.706255635255786], [-74.01261309021659, 40.70644292282632], [-74.01252806883582, 40.706403975990284], [-74.01244166057322, 40.70636439348019], [-74.01235494708831, 40.706324670458045], [-74.01226763725924, 40.70628467547951], [-74.01217982102806, 40.70624444725566], [-74.01212966623847, 40.70622147150156]]]], &quot;type&quot;: &quot;MultiPolygon&quot;}, &quot;properties&quot;: {&quot;base_bbl&quot;: &quot;1000220024&quot;, &quot;bin&quot;: &quot;1000813&quot;, &quot;cnstrct_yr&quot;: &quot;1927&quot;, &quot;doitt_id&quot;: &quot;815255&quot;, &quot;feat_code&quot;: &quot;2100&quot;, &quot;geomsource&quot;: &quot;Photogramm&quot;, &quot;groundelev&quot;: &quot;25&quot;, &quot;heightroof&quot;: &quot;453.39&quot;, &quot;lstmoddate&quot;: &quot;2017-08-22T00:00:00.000&quot;, &quot;lststatype&quot;: &quot;Constructed&quot;, &quot;mpluto_bbl&quot;: &quot;1000220024&quot;, &quot;name&quot;: null, &quot;shape_area&quot;: &quot;0.0&quot;, &quot;shape_len&quot;: &quot;0.0&quot;}, &quot;type&quot;: &quot;Feature&quot;}], &quot;type&quot;: &quot;FeatureCollection&quot;});\n",
       "\n",
       "        \n",
       "    \n",
       "            geo_json_22f021b90a0ac3d16ade80fac6c81b34.addTo(map_30845ddced8b0c316602c1345528b824);\n",
       "        \n",
       "    \n",
       "        function geo_json_8e928ac1e9684e727b3881d0c17daeea_styler(feature) {\n",
       "            switch(feature.properties.name) {\n",
       "                default:\n",
       "                    return {&quot;color&quot;: &quot;black&quot;, &quot;fillColor&quot;: &quot;green&quot;, &quot;fillOpacity&quot;: 0.9, &quot;weight&quot;: 5};\n",
       "            }\n",
       "        }\n",
       "\n",
       "        function geo_json_8e928ac1e9684e727b3881d0c17daeea_onEachFeature(feature, layer) {\n",
       "            layer.on({\n",
       "            });\n",
       "        };\n",
       "        var geo_json_8e928ac1e9684e727b3881d0c17daeea = L.geoJson(null, {\n",
       "                onEachFeature: geo_json_8e928ac1e9684e727b3881d0c17daeea_onEachFeature,\n",
       "            \n",
       "                style: geo_json_8e928ac1e9684e727b3881d0c17daeea_styler,\n",
       "        });\n",
       "\n",
       "        function geo_json_8e928ac1e9684e727b3881d0c17daeea_add (data) {\n",
       "            geo_json_8e928ac1e9684e727b3881d0c17daeea\n",
       "                .addData(data);\n",
       "        }\n",
       "            geo_json_8e928ac1e9684e727b3881d0c17daeea_add({&quot;features&quot;: [{&quot;geometry&quot;: {&quot;coordinates&quot;: [[[[-74.01114502379717, 40.706656824200884], [-74.01113627840564, 40.70665355529068], [-74.0111321364749, 40.706652006811886], [-74.01119210175546, 40.70655910514937], [-74.01124862663984, 40.70647153211633], [-74.01126431232804, 40.70644723028388], [-74.01128995430467, 40.70640750441528], [-74.0113172051561, 40.7063652857672], [-74.01132072345328, 40.706359835526555], [-74.01174576874408, 40.706543233403345], [-74.01178351994457, 40.70655952249655], [-74.01178212993058, 40.70656180003198], [-74.0116775284521, 40.70673324553358], [-74.011587531782, 40.706880751175305], [-74.01133874227911, 40.70679271765279], [-74.0113655288335, 40.70675418033132], [-74.01114502379717, 40.706656824200884]]]], &quot;type&quot;: &quot;MultiPolygon&quot;}, &quot;properties&quot;: {&quot;base_bbl&quot;: &quot;1000230050&quot;, &quot;bin&quot;: &quot;1000816&quot;, &quot;cnstrct_yr&quot;: &quot;1956&quot;, &quot;doitt_id&quot;: &quot;416984&quot;, &quot;feat_code&quot;: &quot;2100&quot;, &quot;geomsource&quot;: &quot;Other (Man&quot;, &quot;groundelev&quot;: &quot;18&quot;, &quot;heightroof&quot;: &quot;347.0&quot;, &quot;lstmoddate&quot;: &quot;2017-08-22T00:00:00.000&quot;, &quot;lststatype&quot;: &quot;Constructed&quot;, &quot;mpluto_bbl&quot;: &quot;1000230050&quot;, &quot;name&quot;: &quot;New York Stock Exchange&quot;, &quot;shape_area&quot;: &quot;0.0&quot;, &quot;shape_len&quot;: &quot;0.0&quot;}, &quot;type&quot;: &quot;Feature&quot;}], &quot;type&quot;: &quot;FeatureCollection&quot;});\n",
       "\n",
       "        \n",
       "    \n",
       "            geo_json_8e928ac1e9684e727b3881d0c17daeea.addTo(map_30845ddced8b0c316602c1345528b824);\n",
       "        \n",
       "    \n",
       "        function geo_json_53fb6d3854b989b55ee74c4e0f0473c8_styler(feature) {\n",
       "            switch(feature.properties.base_bbl) {\n",
       "                default:\n",
       "                    return {&quot;color&quot;: &quot;black&quot;, &quot;fillColor&quot;: &quot;green&quot;, &quot;fillOpacity&quot;: 0.9, &quot;weight&quot;: 5};\n",
       "            }\n",
       "        }\n",
       "\n",
       "        function geo_json_53fb6d3854b989b55ee74c4e0f0473c8_onEachFeature(feature, layer) {\n",
       "            layer.on({\n",
       "            });\n",
       "        };\n",
       "        var geo_json_53fb6d3854b989b55ee74c4e0f0473c8 = L.geoJson(null, {\n",
       "                onEachFeature: geo_json_53fb6d3854b989b55ee74c4e0f0473c8_onEachFeature,\n",
       "            \n",
       "                style: geo_json_53fb6d3854b989b55ee74c4e0f0473c8_styler,\n",
       "        });\n",
       "\n",
       "        function geo_json_53fb6d3854b989b55ee74c4e0f0473c8_add (data) {\n",
       "            geo_json_53fb6d3854b989b55ee74c4e0f0473c8\n",
       "                .addData(data);\n",
       "        }\n",
       "            geo_json_53fb6d3854b989b55ee74c4e0f0473c8_add({&quot;features&quot;: [{&quot;geometry&quot;: {&quot;coordinates&quot;: [[[[-74.01149156132604, 40.706074809451124], [-74.01177713250502, 40.7061989286883], [-74.01188552772675, 40.706246041306926], [-74.01193471775264, 40.706267421561215], [-74.01192857611841, 40.706279743894825], [-74.01182639304818, 40.706484782863015], [-74.01182530003881, 40.7064869775214], [-74.01165681389676, 40.70641374711437], [-74.01138083124333, 40.706293794201024], [-74.01136503855405, 40.70628693026274], [-74.01136768608615, 40.70628249228133], [-74.01145155754176, 40.706141878122565], [-74.011488458362, 40.706080011114594], [-74.01149156132604, 40.706074809451124]]]], &quot;type&quot;: &quot;MultiPolygon&quot;}, &quot;properties&quot;: {&quot;base_bbl&quot;: &quot;1000240029&quot;, &quot;bin&quot;: &quot;1000819&quot;, &quot;cnstrct_yr&quot;: &quot;1932&quot;, &quot;doitt_id&quot;: &quot;557250&quot;, &quot;feat_code&quot;: &quot;2100&quot;, &quot;geomsource&quot;: &quot;Photogramm&quot;, &quot;groundelev&quot;: &quot;16&quot;, &quot;heightroof&quot;: &quot;561.44&quot;, &quot;lstmoddate&quot;: &quot;2017-08-22T00:00:00.000&quot;, &quot;lststatype&quot;: &quot;Constructed&quot;, &quot;mpluto_bbl&quot;: &quot;1000240029&quot;, &quot;name&quot;: null, &quot;shape_area&quot;: &quot;0.0&quot;, &quot;shape_len&quot;: &quot;0.0&quot;}, &quot;type&quot;: &quot;Feature&quot;}], &quot;type&quot;: &quot;FeatureCollection&quot;});\n",
       "\n",
       "        \n",
       "    \n",
       "            geo_json_53fb6d3854b989b55ee74c4e0f0473c8.addTo(map_30845ddced8b0c316602c1345528b824);\n",
       "        \n",
       "    \n",
       "        function geo_json_4b1bd346c74c5fdbe544dee63dcf3ccf_styler(feature) {\n",
       "            switch(feature.properties.base_bbl) {\n",
       "                default:\n",
       "                    return {&quot;color&quot;: &quot;black&quot;, &quot;fillColor&quot;: &quot;green&quot;, &quot;fillOpacity&quot;: 0.9, &quot;weight&quot;: 5};\n",
       "            }\n",
       "        }\n",
       "\n",
       "        function geo_json_4b1bd346c74c5fdbe544dee63dcf3ccf_onEachFeature(feature, layer) {\n",
       "            layer.on({\n",
       "            });\n",
       "        };\n",
       "        var geo_json_4b1bd346c74c5fdbe544dee63dcf3ccf = L.geoJson(null, {\n",
       "                onEachFeature: geo_json_4b1bd346c74c5fdbe544dee63dcf3ccf_onEachFeature,\n",
       "            \n",
       "                style: geo_json_4b1bd346c74c5fdbe544dee63dcf3ccf_styler,\n",
       "        });\n",
       "\n",
       "        function geo_json_4b1bd346c74c5fdbe544dee63dcf3ccf_add (data) {\n",
       "            geo_json_4b1bd346c74c5fdbe544dee63dcf3ccf\n",
       "                .addData(data);\n",
       "        }\n",
       "            geo_json_4b1bd346c74c5fdbe544dee63dcf3ccf_add({&quot;features&quot;: [{&quot;geometry&quot;: {&quot;coordinates&quot;: [[[[-74.01000007829556, 40.7055820951888], [-74.01001115407543, 40.70558171691179], [-74.01005119372876, 40.705580350048145], [-74.01005872431203, 40.70558009274453], [-74.01006711279484, 40.705579806549075], [-74.01007728925856, 40.70557945896172], [-74.01008897799204, 40.70557905991173], [-74.01011189041789, 40.705578278058326], [-74.01029917992433, 40.70557188403096], [-74.01038546566319, 40.70556893790934], [-74.01063039707776, 40.70554954644928], [-74.01065055683881, 40.70562862660005], [-74.01043549420203, 40.705631452291975], [-74.01030436995451, 40.70563317417608], [-74.01021535631136, 40.70563434376992], [-74.01019530859814, 40.70563460669566], [-74.0101945350739, 40.70563699311949], [-74.01018578620678, 40.70566400743601], [-74.01018318886679, 40.70567202581961], [-74.01026695719654, 40.705703420112464], [-74.01027085411835, 40.70569739804491], [-74.01028318135278, 40.705678349326504], [-74.01040159340228, 40.705722726696564], [-74.01038307655976, 40.70575134031783], [-74.01039945346731, 40.70575747762577], [-74.01038572790458, 40.7057786868095], [-74.01034503266042, 40.705841572285756], [-74.01030207300269, 40.70590795733713], [-74.01029083552994, 40.70590374574995], [-74.01004482682764, 40.70581154880875], [-74.00994312780874, 40.70577343448769], [-74.00997042036964, 40.70568173755099], [-74.01000007829556, 40.7055820951888]]]], &quot;type&quot;: &quot;MultiPolygon&quot;}, &quot;properties&quot;: {&quot;base_bbl&quot;: &quot;1000250027&quot;, &quot;bin&quot;: &quot;1000825&quot;, &quot;cnstrct_yr&quot;: &quot;1902&quot;, &quot;doitt_id&quot;: &quot;454973&quot;, &quot;feat_code&quot;: &quot;2100&quot;, &quot;geomsource&quot;: &quot;Photogramm&quot;, &quot;groundelev&quot;: &quot;13&quot;, &quot;heightroof&quot;: &quot;271.8&quot;, &quot;lstmoddate&quot;: &quot;2017-08-22T00:00:00.000&quot;, &quot;lststatype&quot;: &quot;Constructed&quot;, &quot;mpluto_bbl&quot;: &quot;1000250027&quot;, &quot;name&quot;: null, &quot;shape_area&quot;: &quot;0.0&quot;, &quot;shape_len&quot;: &quot;0.0&quot;}, &quot;type&quot;: &quot;Feature&quot;}], &quot;type&quot;: &quot;FeatureCollection&quot;});\n",
       "\n",
       "        \n",
       "    \n",
       "            geo_json_4b1bd346c74c5fdbe544dee63dcf3ccf.addTo(map_30845ddced8b0c316602c1345528b824);\n",
       "        \n",
       "    \n",
       "        function geo_json_260894805340d0a37818f31d3fe58799_styler(feature) {\n",
       "            switch(feature.properties.base_bbl) {\n",
       "                default:\n",
       "                    return {&quot;color&quot;: &quot;black&quot;, &quot;fillColor&quot;: &quot;blue&quot;, &quot;fillOpacity&quot;: 0.9, &quot;weight&quot;: 5};\n",
       "            }\n",
       "        }\n",
       "\n",
       "        function geo_json_260894805340d0a37818f31d3fe58799_onEachFeature(feature, layer) {\n",
       "            layer.on({\n",
       "            });\n",
       "        };\n",
       "        var geo_json_260894805340d0a37818f31d3fe58799 = L.geoJson(null, {\n",
       "                onEachFeature: geo_json_260894805340d0a37818f31d3fe58799_onEachFeature,\n",
       "            \n",
       "                style: geo_json_260894805340d0a37818f31d3fe58799_styler,\n",
       "        });\n",
       "\n",
       "        function geo_json_260894805340d0a37818f31d3fe58799_add (data) {\n",
       "            geo_json_260894805340d0a37818f31d3fe58799\n",
       "                .addData(data);\n",
       "        }\n",
       "            geo_json_260894805340d0a37818f31d3fe58799_add({&quot;features&quot;: [{&quot;geometry&quot;: {&quot;coordinates&quot;: [[[[-74.00873480225592, 40.70503912130038], [-74.00886750629077, 40.7050019551484], [-74.00887391720144, 40.70500015993486], [-74.00889348219846, 40.70506391914201], [-74.00894729886014, 40.70523930399257], [-74.0089535139569, 40.70525955781351], [-74.00882614223978, 40.70527583358941], [-74.00876139192084, 40.705108030922126], [-74.00874490402563, 40.70506530020374], [-74.00873480225592, 40.70503912130038]]]], &quot;type&quot;: &quot;MultiPolygon&quot;}, &quot;properties&quot;: {&quot;base_bbl&quot;: &quot;1000280012&quot;, &quot;bin&quot;: &quot;1000833&quot;, &quot;cnstrct_yr&quot;: &quot;1931&quot;, &quot;doitt_id&quot;: &quot;313683&quot;, &quot;feat_code&quot;: &quot;2100&quot;, &quot;geomsource&quot;: &quot;Photogramm&quot;, &quot;groundelev&quot;: &quot;17&quot;, &quot;heightroof&quot;: &quot;340.89&quot;, &quot;lstmoddate&quot;: &quot;2017-08-22T00:00:00.000&quot;, &quot;lststatype&quot;: &quot;Constructed&quot;, &quot;mpluto_bbl&quot;: &quot;1000280012&quot;, &quot;name&quot;: null, &quot;shape_area&quot;: &quot;0.0&quot;, &quot;shape_len&quot;: &quot;0.0&quot;}, &quot;type&quot;: &quot;Feature&quot;}], &quot;type&quot;: &quot;FeatureCollection&quot;});\n",
       "\n",
       "        \n",
       "    \n",
       "            geo_json_260894805340d0a37818f31d3fe58799.addTo(map_30845ddced8b0c316602c1345528b824);\n",
       "        \n",
       "    \n",
       "            tile_layer_685dcaf3bc0d4ae2051122a821ec2e49.addTo(map_30845ddced8b0c316602c1345528b824);\n",
       "        \n",
       "    \n",
       "            geo_json_f84ab141fdef29fd87c6501a0b4a9263.addTo(map_30845ddced8b0c316602c1345528b824);\n",
       "        \n",
       "    \n",
       "            geo_json_a2b0572ecd3a15c92c0bab8851d2bbf8.addTo(map_30845ddced8b0c316602c1345528b824);\n",
       "        \n",
       "    \n",
       "            geo_json_2c4d22b95354a67a34078e4e28d0b8c0.addTo(map_30845ddced8b0c316602c1345528b824);\n",
       "        \n",
       "    \n",
       "            geo_json_199c4a062a629a8373cc3067441fa71c.addTo(map_30845ddced8b0c316602c1345528b824);\n",
       "        \n",
       "    \n",
       "            geo_json_22f021b90a0ac3d16ade80fac6c81b34.addTo(map_30845ddced8b0c316602c1345528b824);\n",
       "        \n",
       "    \n",
       "            geo_json_8e928ac1e9684e727b3881d0c17daeea.addTo(map_30845ddced8b0c316602c1345528b824);\n",
       "        \n",
       "    \n",
       "            geo_json_53fb6d3854b989b55ee74c4e0f0473c8.addTo(map_30845ddced8b0c316602c1345528b824);\n",
       "        \n",
       "    \n",
       "            geo_json_4b1bd346c74c5fdbe544dee63dcf3ccf.addTo(map_30845ddced8b0c316602c1345528b824);\n",
       "        \n",
       "    \n",
       "            geo_json_260894805340d0a37818f31d3fe58799.addTo(map_30845ddced8b0c316602c1345528b824);\n",
       "        \n",
       "&lt;/script&gt;\n",
       "&lt;/html&gt;\" style=\"position:absolute;width:100%;height:100%;left:0;top:0;border:none !important;\" allowfullscreen webkitallowfullscreen mozallowfullscreen></iframe></div></div>"
      ],
      "text/plain": [
       "<folium.folium.Map at 0x7aa7a51c98a0>"
      ]
     },
     "execution_count": 15,
     "metadata": {},
     "output_type": "execute_result"
    }
   ],
   "source": [
    "import pandas as pd\n",
    "from sklearn.ensemble import RandomForestClassifier\n",
    "from sklearn.model_selection import train_test_split\n",
    "import folium\n",
    "import json\n",
    "\n",
    "# Load the datasets\n",
    "energy_data = pd.read_csv('/kaggle/input/nyc-building-energy-efficiency-ratings/energy_disclosure_2021_rows.csv')\n",
    "geojson_lookup_data = pd.read_csv('/kaggle/input/nyc-building-energy-efficiency-ratings/geojson_lookup_rows.csv')\n",
    "\n",
    "# Drop rows with missing values\n",
    "energy_data.dropna(inplace=True)\n",
    "geojson_lookup_data.dropna(inplace=True)\n",
    "\n",
    "# Define features (X) and target (y) for classification\n",
    "X = energy_data[['Street_Number', 'DOF_Gross_Square_Footage', 'Energy_Star_1-100_Score']]\n",
    "y = energy_data['Energy_Efficiency_Grade']\n",
    "\n",
    "# Split the data into training and testing sets\n",
    "X_train, X_test, y_train, y_test = train_test_split(X, y, test_size=0.3, random_state=42, stratify=y)\n",
    "\n",
    "# Initialize the Random Forest classifier\n",
    "clf = RandomForestClassifier()\n",
    "\n",
    "# Train the classifier\n",
    "clf.fit(X_train, y_train)\n",
    "\n",
    "# Make predictions on the entire dataset\n",
    "energy_data['Predicted_Grade'] = clf.predict(X)\n",
    "\n",
    "# Parse the JSON-like string in the second column of geojson_lookup_data\n",
    "geojson_lookup_data['GeoBuilding'] = geojson_lookup_data['GeoBuilding'].apply(json.loads)\n",
    "\n",
    "# Merge predicted grades with geojson_lookup_data based on 10_Digit_BBL\n",
    "merged_data = pd.merge(energy_data, geojson_lookup_data[['10_Digit_BBL', 'GeoBuilding', 'Latitude', 'Longitude']], on='10_Digit_BBL', how='inner')\n",
    "\n",
    "# Initialize a Folium map centered on New York City\n",
    "nyc_map = folium.Map(location=[40.7128, -74.0060], zoom_start=11)\n",
    "\n",
    "# Define colors for each grade\n",
    "grade_colors = {\n",
    "    'A': 'green',\n",
    "    'B': 'blue',\n",
    "    'C': 'orange',\n",
    "    'D': 'red'\n",
    "}\n",
    "\n",
    "# Add GeoJSON data to the map with separate fill colors for each grade\n",
    "for _, row in merged_data.iterrows():\n",
    "    grade_color = grade_colors.get(row['Predicted_Grade'], 'black')  # Default to black if grade is not found\n",
    "    folium.GeoJson(\n",
    "        row['GeoBuilding'],\n",
    "        style_function=lambda feature, color=grade_color: {\n",
    "            'fillColor': color,\n",
    "            'color': 'black',\n",
    "            'weight': 5,\n",
    "            'fillOpacity': 0.9\n",
    "        },\n",
    "        popup=f\"Grade: {row['Predicted_Grade']}, GeoBuilding: {row['GeoBuilding']}\"\n",
    "    ).add_to(nyc_map)\n",
    "\n",
    "# Save map to an HTML file\n",
    "nyc_map.save('nyc_energy_efficiency_map.html')\n",
    "\n",
    "# Display the map (if running in an interactive environment like Jupyter Notebook)\n",
    "nyc_map\n"
   ]
  },
  {
   "cell_type": "code",
   "execution_count": 16,
   "id": "0d805cc1",
   "metadata": {
    "execution": {
     "iopub.execute_input": "2024-05-23T05:16:19.718039Z",
     "iopub.status.busy": "2024-05-23T05:16:19.717635Z",
     "iopub.status.idle": "2024-05-23T05:16:19.723403Z",
     "shell.execute_reply": "2024-05-23T05:16:19.722336Z"
    },
    "papermill": {
     "duration": 0.018124,
     "end_time": "2024-05-23T05:16:19.725694",
     "exception": false,
     "start_time": "2024-05-23T05:16:19.707570",
     "status": "completed"
    },
    "tags": []
   },
   "outputs": [
    {
     "name": "stdout",
     "output_type": "stream",
     "text": [
      "Unique predicted grades: ['A' 'B']\n"
     ]
    }
   ],
   "source": [
    "# Print unique values of Predicted_Grade column\n",
    "print(\"Unique predicted grades:\", merged_data['Predicted_Grade'].unique())\n"
   ]
  },
  {
   "cell_type": "code",
   "execution_count": null,
   "id": "7fe633a3",
   "metadata": {
    "papermill": {
     "duration": 0.00891,
     "end_time": "2024-05-23T05:16:19.743628",
     "exception": false,
     "start_time": "2024-05-23T05:16:19.734718",
     "status": "completed"
    },
    "tags": []
   },
   "outputs": [],
   "source": []
  }
 ],
 "metadata": {
  "kaggle": {
   "accelerator": "none",
   "dataSources": [
    {
     "datasetId": 4546483,
     "sourceId": 7771535,
     "sourceType": "datasetVersion"
    }
   ],
   "dockerImageVersionId": 30698,
   "isGpuEnabled": false,
   "isInternetEnabled": true,
   "language": "python",
   "sourceType": "notebook"
  },
  "kernelspec": {
   "display_name": "Python 3",
   "language": "python",
   "name": "python3"
  },
  "language_info": {
   "codemirror_mode": {
    "name": "ipython",
    "version": 3
   },
   "file_extension": ".py",
   "mimetype": "text/x-python",
   "name": "python",
   "nbconvert_exporter": "python",
   "pygments_lexer": "ipython3",
   "version": "3.10.13"
  },
  "papermill": {
   "default_parameters": {},
   "duration": 29.284306,
   "end_time": "2024-05-23T05:16:22.372184",
   "environment_variables": {},
   "exception": null,
   "input_path": "__notebook__.ipynb",
   "output_path": "__notebook__.ipynb",
   "parameters": {},
   "start_time": "2024-05-23T05:15:53.087878",
   "version": "2.5.0"
  }
 },
 "nbformat": 4,
 "nbformat_minor": 5
}
